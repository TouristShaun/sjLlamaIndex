{
  "cells": [
    {
      "cell_type": "markdown",
      "metadata": {
        "id": "view-in-github",
        "colab_type": "text"
      },
      "source": [
        "<a href=\"https://colab.research.google.com/github/shaunjohann/sjLlamaIndex/blob/main/Advanced_Tools_Usage_with_GSuite.ipynb\" target=\"_parent\"><img src=\"https://colab.research.google.com/assets/colab-badge.svg\" alt=\"Open In Colab\"/></a>"
      ]
    },
    {
      "cell_type": "markdown",
      "id": "cedad359-37d8-46d9-a308-3e2f1bf8f495",
      "metadata": {
        "id": "cedad359-37d8-46d9-a308-3e2f1bf8f495"
      },
      "source": [
        "# Google combined tools example\n",
        "\n",
        "This notebook features a more advanced usage of Agent Tools, using the Google Calendar, Mail and Search integrations as well as the Load and Search Meta Tool to fufill a more complicated set of tasks for the user.\n",
        "\n",
        "## Setup the Tools\n",
        "First we will import OpenAI and setup the Agent:"
      ]
    },
    {
      "cell_type": "code",
      "source": [
        "!pip install llama-index==0.7.8 llama-hub==0.0.11"
      ],
      "metadata": {
        "id": "m2ZEOW9DVOZ5"
      },
      "id": "m2ZEOW9DVOZ5",
      "execution_count": null,
      "outputs": []
    },
    {
      "cell_type": "code",
      "execution_count": null,
      "id": "cc2d616f-da54-40ea-82b9-17824531eaa9",
      "metadata": {
        "tags": [],
        "id": "cc2d616f-da54-40ea-82b9-17824531eaa9"
      },
      "outputs": [],
      "source": [
        "from llama_index.tools.tool_spec.load_and_search.base import LoadAndSearchToolSpec"
      ]
    },
    {
      "cell_type": "code",
      "execution_count": null,
      "id": "a77cb862-9c2a-40ba-8052-befda4237c72",
      "metadata": {
        "tags": [],
        "id": "a77cb862-9c2a-40ba-8052-befda4237c72"
      },
      "outputs": [],
      "source": [
        "from llama_index.agent import OpenAIAgent"
      ]
    },
    {
      "cell_type": "code",
      "execution_count": null,
      "id": "e3b56663-8754-4e97-876b-ceea4fe968ad",
      "metadata": {
        "id": "e3b56663-8754-4e97-876b-ceea4fe968ad"
      },
      "outputs": [],
      "source": [
        "import openai\n",
        "\n",
        "openai.api_key = 'sk-api-key'"
      ]
    },
    {
      "cell_type": "markdown",
      "id": "2344bd4e-7c50-4c30-ad55-ba30ea7f2edf",
      "metadata": {
        "id": "2344bd4e-7c50-4c30-ad55-ba30ea7f2edf"
      },
      "source": [
        "Now we can import the Google Tools we are going to use. See the README for the respective tools to get started with authentication.\n",
        "\n",
        "Gmail: https://llama-hub-ui.vercel.app/l/tools-gmail\n",
        "\n",
        "Google Calendar: https://llama-hub-ui.vercel.app/l/tools-google_calendar\n",
        "\n",
        "Google Search: https://llama-hub-ui.vercel.app/l/tools-google_search\n",
        "\n",
        "**Note**: Both Gmail and Google Calendar require a credentials.json file. In the Colab notebook environment, make sure to upload the relevant credential files.\n"
      ]
    },
    {
      "cell_type": "code",
      "execution_count": null,
      "id": "c0bc67df-25ea-4d81-8e10-912fa59d9d75",
      "metadata": {
        "tags": [],
        "id": "c0bc67df-25ea-4d81-8e10-912fa59d9d75"
      },
      "outputs": [],
      "source": [
        "from llama_hub.tools.gmail.base import GmailToolSpec\n",
        "from llama_hub.tools.google_calendar.base import GoogleCalendarToolSpec\n",
        "from llama_hub.tools.google_search.base import GoogleSearchToolSpec\n",
        "\n",
        "gmail_tools = GmailToolSpec().to_tool_list()\n",
        "gcal_tools = GoogleCalendarToolSpec().to_tool_list()\n",
        "gsearch_tools = GoogleSearchToolSpec(key=\"<insert_api_key>\", engine=\"<insert_engine>\").to_tool_list()\n",
        "\n"
      ]
    },
    {
      "cell_type": "markdown",
      "id": "7e1f852e-7f96-405e-bf74-de7c561aa024",
      "metadata": {
        "id": "7e1f852e-7f96-405e-bf74-de7c561aa024"
      },
      "source": [
        "Let's take a look at all of the tools we have available from the 3 tool specs we initialized:"
      ]
    },
    {
      "cell_type": "code",
      "execution_count": null,
      "id": "ca6c5d85-4779-4011-8253-9cd0d6814cb8",
      "metadata": {
        "tags": [],
        "id": "ca6c5d85-4779-4011-8253-9cd0d6814cb8"
      },
      "outputs": [],
      "source": [
        "for tool in [*gmail_tools, *gcal_tools, *gsearch_tools]:\n",
        "    print(tool.metadata.name)\n",
        "    print(tool.metadata.description)"
      ]
    },
    {
      "cell_type": "markdown",
      "id": "c514ae53-5871-46c3-9759-d82f4be0d84e",
      "metadata": {
        "id": "c514ae53-5871-46c3-9759-d82f4be0d84e"
      },
      "source": [
        "We have to be conscious of the models context length when using these tools as if we are not careful the response can easily be larger than the token limit. In particular, the load_data function for emails returns large payloads, as well as google search. In this example I will wrap those two tools in the Load and Search Meta tool:"
      ]
    },
    {
      "cell_type": "code",
      "execution_count": null,
      "id": "0a3e3309-b499-46b7-9b29-b61c520ae257",
      "metadata": {
        "tags": [],
        "id": "0a3e3309-b499-46b7-9b29-b61c520ae257"
      },
      "outputs": [],
      "source": [
        "\n",
        "from llama_index.tools.tool_spec.load_and_search.base import LoadAndSearchToolSpec\n",
        "\n",
        "print('Wrapping ' + gsearch_tools[0].metadata.name)\n",
        "gsearch_load_and_search_tools = LoadAndSearchToolSpec.from_defaults(\n",
        "    gsearch_tools[0],\n",
        ").to_tool_list()\n",
        "\n",
        "print('Wrapping gmail ' + gmail_tools[0].metadata.name)\n",
        "gmail_load_and_search_tools = LoadAndSearchToolSpec.from_defaults(\n",
        "    gmail_tools[0],\n",
        ").to_tool_list()\n",
        "\n",
        "print('Wrapping google calendar ' + gcal_tools[0].metadata.name)\n",
        "gcal_load_and_search_tools = LoadAndSearchToolSpec.from_defaults(\n",
        "    gcal_tools[0],\n",
        ").to_tool_list()\n"
      ]
    },
    {
      "cell_type": "markdown",
      "id": "cc206b48-469c-4e5d-a403-7414b38b3b9d",
      "metadata": {
        "id": "cc206b48-469c-4e5d-a403-7414b38b3b9d"
      },
      "source": [
        "Notice we are only wrapping individual tools out of the tool list. Lets combine the all the tools together into a combined list:"
      ]
    },
    {
      "cell_type": "code",
      "execution_count": null,
      "id": "7eba0f02-f202-4295-8f15-f23569830a83",
      "metadata": {
        "tags": [],
        "id": "7eba0f02-f202-4295-8f15-f23569830a83"
      },
      "outputs": [],
      "source": [
        "all_tools = [*gsearch_load_and_search_tools, *gmail_load_and_search_tools, *gcal_load_and_search_tools, *gcal_tools[1::], *gmail_tools[1::], *gsearch_tools[1::]]"
      ]
    },
    {
      "cell_type": "markdown",
      "id": "6a2317e0-7c64-4e73-8bca-343e3f662901",
      "metadata": {
        "id": "6a2317e0-7c64-4e73-8bca-343e3f662901"
      },
      "source": [
        "Now the tools are ready to pass to the agent:"
      ]
    },
    {
      "cell_type": "code",
      "execution_count": null,
      "id": "03da9c28-767c-43c8-8500-7d2fc657a432",
      "metadata": {
        "tags": [],
        "id": "03da9c28-767c-43c8-8500-7d2fc657a432"
      },
      "outputs": [],
      "source": [
        "agent = OpenAIAgent.from_tools(all_tools, verbose=True)"
      ]
    },
    {
      "cell_type": "markdown",
      "id": "95cb5fb2-9078-47cf-b253-4a13fe2f01c5",
      "metadata": {
        "id": "95cb5fb2-9078-47cf-b253-4a13fe2f01c5"
      },
      "source": [
        "## Interacting with the Agent\n",
        "\n",
        "We are now ready to interact with the Agent and test the calendar, email and search capabilities! Let's try out the search first:"
      ]
    },
    {
      "cell_type": "code",
      "execution_count": null,
      "id": "e0ff83ed-e7ff-480e-8816-71adeb43222f",
      "metadata": {
        "tags": [],
        "id": "e0ff83ed-e7ff-480e-8816-71adeb43222f",
        "outputId": "1d503cd7-6109-4919-c64f-be648f32b8a9"
      },
      "outputs": [
        {
          "name": "stdout",
          "output_type": "stream",
          "text": [
            "=== Calling Function ===\n",
            "Calling function: google_search with args: {\n",
            "  \"query\": \"dentist in Toronto near Bloor and Dufferin email address\"\n",
            "}\n",
            "Got output: Content loaded! You can now search the information using read_google_search\n",
            "========================\n",
            "=== Calling Function ===\n",
            "Calling function: read_google_search with args: {\n",
            "  \"query\": \"email address for dentist in Toronto near Bloor and Dufferin\"\n",
            "}\n"
          ]
        },
        {
          "name": "stderr",
          "output_type": "stream",
          "text": [
            "\n",
            "KeyboardInterrupt\n",
            "\n"
          ]
        }
      ],
      "source": [
        "response = agent.chat(\n",
        "    'search google and find the email address for a dentist in toronto near bloor and dufferin'\n",
        ")\n",
        "print(str(response))"
      ]
    },
    {
      "cell_type": "code",
      "execution_count": null,
      "id": "2fb731be-d921-4c0c-99f0-5bb68ee0b4cc",
      "metadata": {
        "tags": [],
        "id": "2fb731be-d921-4c0c-99f0-5bb68ee0b4cc"
      },
      "outputs": [],
      "source": [
        "response = agent.chat(\n",
        "    'Can you create an email to the dentist inquiring if ' +\n",
        "    'they have any availablity at 4pm anytime next week'\n",
        ")\n",
        "print(str(response))"
      ]
    },
    {
      "cell_type": "code",
      "execution_count": null,
      "id": "e4dd39d5-1622-4204-866b-02b7a1087969",
      "metadata": {
        "tags": [],
        "id": "e4dd39d5-1622-4204-866b-02b7a1087969"
      },
      "outputs": [],
      "source": [
        "response = agent.chat('Can you replace \"Dear Dentist\" with \"Hello,\"')\n",
        "print(str(response))"
      ]
    },
    {
      "cell_type": "code",
      "execution_count": null,
      "id": "4f39055c-1d1f-4b2d-88be-3d4d3029f373",
      "metadata": {
        "tags": [],
        "id": "4f39055c-1d1f-4b2d-88be-3d4d3029f373"
      },
      "outputs": [],
      "source": [
        "response = agent.chat('Is there any events on my calendar next week at 4pm?')\n",
        "print(str(response))"
      ]
    },
    {
      "cell_type": "code",
      "execution_count": null,
      "id": "0c7a5a49-9b9d-487c-89be-2d669d3ac7df",
      "metadata": {
        "id": "0c7a5a49-9b9d-487c-89be-2d669d3ac7df"
      },
      "outputs": [],
      "source": [
        "agent.chat('send the email')"
      ]
    },
    {
      "cell_type": "markdown",
      "id": "368ae63d-5ee0-480e-bb1d-62ac479ecd52",
      "metadata": {
        "id": "368ae63d-5ee0-480e-bb1d-62ac479ecd52"
      },
      "source": [
        "## Summary\n",
        "\n",
        "We were able to use the google search, email and calendar tools to find a dentist and request an appointment, making sure any calendar conflicts were avoided. This notebook should prove useful for experimenting with more complicated agents, combining together the tools available in LlamaHub to create more complicated workflows the agent can execute.\n",
        "\n"
      ]
    },
    {
      "cell_type": "code",
      "execution_count": null,
      "id": "fa347def-ffc1-4f13-a511-55950750100b",
      "metadata": {
        "id": "fa347def-ffc1-4f13-a511-55950750100b"
      },
      "outputs": [],
      "source": []
    }
  ],
  "metadata": {
    "kernelspec": {
      "display_name": "llama_hub",
      "language": "python",
      "name": "llama_hub"
    },
    "language_info": {
      "codemirror_mode": {
        "name": "ipython",
        "version": 3
      },
      "file_extension": ".py",
      "mimetype": "text/x-python",
      "name": "python",
      "nbconvert_exporter": "python",
      "pygments_lexer": "ipython3",
      "version": "3.10.8"
    },
    "colab": {
      "provenance": [],
      "include_colab_link": true
    }
  },
  "nbformat": 4,
  "nbformat_minor": 5
}